{
 "cells": [
  {
   "cell_type": "markdown",
   "metadata": {
    "collapsed": true
   },
   "source": [
    "http://wbdata.readthedocs.io/en/latest/"
   ]
  },
  {
   "cell_type": "code",
   "execution_count": null,
   "metadata": {
    "collapsed": true
   },
   "outputs": [],
   "source": [
    "########################################################################################################\n",
    "# WORLD PROGRESS - INDICATORS, RANKINGS, TENDENCIES, PREDICTIVE, CAUSAL, OPTIMIZATION, RECOMMENDATIONS\n",
    "# Descriptive Dasboard (movies + gapminder) \n",
    "# - Interactive filters ( Tableau )\n",
    "# - <See Plots> \n",
    "# Cluster\n",
    "# - group similar countries by data in visual sense\n",
    "# Causal + Predictive\n",
    "# - Statsmodels ARIMA / Sklearn -> report with line in other color and risk variance (= r forecast)\n",
    "# Optimization\n",
    "# - PuLP ( Slider + PuLP ) interactive integer | linear optmization \n",
    "# Recommendation\n",
    "# - Some recomendation based on optimization\n",
    "# DOWNLOAD REPORT - interactive jupyter notebook html\n",
    "########################################################################################################\n",
    "\n",
    "# Plots\n",
    "# 1. Relationship - scatterplot > color (cluster), lines (optimization), bubble ( 3Dimensions ), regression (R car)\n",
    "# 2. Composition - barchart, Donut\n",
    "# 3. Comparison > Bar charts\n",
    "# 4. TimeSeries - \n",
    "# 5. boxplot, violin\n",
    "# 6. dd style (heatmap)\n",
    "# 7. geomapping\n",
    "\n",
    "# Replicate MOVIES (gapminder) with World Bank Data\n",
    "# 1. select many countries\n",
    "# 2. 2 metrics Y axis and bubble size (y is time)\n",
    "# 3. select format of data"
   ]
  },
  {
   "cell_type": "markdown",
   "metadata": {},
   "source": [
    "http://bokeh.pydata.org/en/latest/docs/gallery.html"
   ]
  },
  {
   "cell_type": "markdown",
   "metadata": {},
   "source": [
    "http://nbviewer.jupyter.org/github/bokeh/bokeh-notebooks/blob/master/tutorial/00%20-%20intro.ipynb#Interaction"
   ]
  },
  {
   "cell_type": "code",
   "execution_count": null,
   "metadata": {
    "collapsed": true
   },
   "outputs": [],
   "source": [
    "#!cp /home/pedro/Downloads/gapminder.ipynb ./"
   ]
  },
  {
   "cell_type": "code",
   "execution_count": null,
   "metadata": {
    "collapsed": false
   },
   "outputs": [],
   "source": [
    "#!jupyter notebook gapminder.ipynb"
   ]
  },
  {
   "cell_type": "code",
   "execution_count": null,
   "metadata": {
    "collapsed": false
   },
   "outputs": [],
   "source": [
    "import wbdata\n",
    "import pandas"
   ]
  },
  {
   "cell_type": "code",
   "execution_count": null,
   "metadata": {
    "collapsed": true
   },
   "outputs": [],
   "source": [
    "import datetime"
   ]
  },
  {
   "cell_type": "code",
   "execution_count": null,
   "metadata": {
    "collapsed": true
   },
   "outputs": [],
   "source": [
    "%matplotlib inline\n",
    "import matplotlib.pyplot as plt"
   ]
  },
  {
   "cell_type": "code",
   "execution_count": null,
   "metadata": {
    "collapsed": false
   },
   "outputs": [],
   "source": [
    "#set up the countries I want\n",
    "countries = [\"CL\",\"UY\",\"HU\"]\n",
    " \n",
    "#set up the indicator I want (just build up the dict if you want more than one)\n",
    "indicators = {'NY.GNP.PCAP.CD':'GNI per Capita'}\n",
    " \n",
    "#grab indicators above for countires above and load into data frame\n",
    "df = wbdata.get_dataframe(indicators, country=countries, convert_date=False)\n",
    "\n",
    "#df is \"pivoted\", pandas' unstack fucntion helps reshape it into something plottable\n",
    "dfu = df.unstack(level=0)\n",
    "\n",
    "# a simple matplotlib plot with legend, labels and a title\n",
    "dfu.plot(); \n",
    "plt.legend(loc='best'); \n",
    "plt.title(\"GNI Per Capita ($USD, Atlas Method)\"); \n",
    "plt.xlabel('Date'); plt.ylabel('GNI Per Capita ($USD, Atlas Method');"
   ]
  },
  {
   "cell_type": "code",
   "execution_count": null,
   "metadata": {
    "collapsed": false
   },
   "outputs": [],
   "source": [
    "wbdata.get_source()"
   ]
  },
  {
   "cell_type": "code",
   "execution_count": null,
   "metadata": {
    "collapsed": false
   },
   "outputs": [],
   "source": [
    "# 1 DOing Business\n",
    "wbdata.get_indicator(source=1)"
   ]
  },
  {
   "cell_type": "code",
   "execution_count": null,
   "metadata": {
    "collapsed": false
   },
   "outputs": [],
   "source": [
    "wbdata.search_countries(\"Brazil\")"
   ]
  },
  {
   "cell_type": "code",
   "execution_count": null,
   "metadata": {
    "collapsed": false
   },
   "outputs": [],
   "source": [
    "#wbdata.get_data(indicator, country=u'all', data_date=None, convert_date=False, pandas=False, \n",
    "#column_name=u'value', keep_levels=False)\n",
    "wbdata.get_data(\"IC.BUS.EASE.XQ\", country=u'BRA')"
   ]
  },
  {
   "cell_type": "code",
   "execution_count": null,
   "metadata": {
    "collapsed": false
   },
   "outputs": [],
   "source": [
    "data_date = (datetime.datetime(2010, 1, 1), datetime.datetime(2011, 1, 1))\n",
    "wbdata.get_data(\"IC.BUS.EASE.XQ\", country=(\"USA\", \"BRA\"), data_date=data_date)"
   ]
  },
  {
   "cell_type": "code",
   "execution_count": null,
   "metadata": {
    "collapsed": false
   },
   "outputs": [],
   "source": [
    "wbdata.search_indicators(\"gdp per capita\")"
   ]
  },
  {
   "cell_type": "code",
   "execution_count": null,
   "metadata": {
    "collapsed": false
   },
   "outputs": [],
   "source": [
    "wbdata.get_incomelevel()"
   ]
  },
  {
   "cell_type": "code",
   "execution_count": null,
   "metadata": {
    "collapsed": false
   },
   "outputs": [],
   "source": [
    "countries = [i['id'] for i in wbdata.get_country(incomelevel=\"OEC\", display=False)]\n",
    "indicators = {\"IC.BUS.EASE.XQ\": \"doing_business\", \"NY.GDP.PCAP.PP.KD\": \"gdppc\"}\n",
    "df = wbdata.get_dataframe(indicators, country=countries, convert_date=True)\n",
    "df.describe()"
   ]
  },
  {
   "cell_type": "code",
   "execution_count": null,
   "metadata": {
    "collapsed": false
   },
   "outputs": [],
   "source": [
    "df = df.dropna()\n",
    "df.gdppc.corr(df.doing_business)"
   ]
  },
  {
   "cell_type": "code",
   "execution_count": null,
   "metadata": {
    "collapsed": true
   },
   "outputs": [],
   "source": []
  },
  {
   "cell_type": "code",
   "execution_count": null,
   "metadata": {
    "collapsed": true
   },
   "outputs": [],
   "source": []
  },
  {
   "cell_type": "code",
   "execution_count": null,
   "metadata": {
    "collapsed": true
   },
   "outputs": [],
   "source": []
  }
 ],
 "metadata": {
  "kernelspec": {
   "display_name": "Python 2",
   "language": "python",
   "name": "python2"
  },
  "language_info": {
   "codemirror_mode": {
    "name": "ipython",
    "version": 2
   },
   "file_extension": ".py",
   "mimetype": "text/x-python",
   "name": "python",
   "nbconvert_exporter": "python",
   "pygments_lexer": "ipython2",
   "version": "2.7.11"
  }
 },
 "nbformat": 4,
 "nbformat_minor": 0
}
